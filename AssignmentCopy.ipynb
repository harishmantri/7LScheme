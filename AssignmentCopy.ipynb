{
 "cells": [
  {
   "cell_type": "markdown",
   "metadata": {},
   "source": [
    "# The Seven League Scheme: Deep learning for large time step Monte Carlo simulations of stochastic differential equations"
   ]
  },
  {
   "cell_type": "markdown",
   "metadata": {},
   "source": [
    "## <b>Problem</b>\n",
    "7L Scheme\n",
    "The 7L scheme solved the SDE using large time steps. In other numerical scheme such as Euler/Milstien a large amount of discretization is required to achieve high order convergence. Due the large discretization it leads to discrezation bias. However the 7L scheme uses large time step there the discreziation bias is reduced.\n",
    "\n",
    "The scheme uses Artifical Neural networks (ANN) to learn SC points, then MC is performed by using large time steps.\n",
    "\n",
    "\n",
    "\n",
    "My Solution\n",
    "\n",
    "\n"
   ]
  },
  {
   "cell_type": "code",
   "execution_count": 2,
   "metadata": {},
   "outputs": [
    {
     "name": "stdout",
     "output_type": "stream",
     "text": [
      "[-1.10665714e+00 -8.89023665e-01 -6.71390188e-01 -4.53756710e-01\n",
      " -2.36123232e-01 -1.84897547e-02  1.99143723e-01  4.16777201e-01\n",
      "  6.34410678e-01  8.52044156e-01  1.06967763e+00  1.28731111e+00\n",
      "  1.50494459e+00  1.72257807e+00  1.94021154e+00  2.15784502e+00\n",
      "  2.37547850e+00  2.59311198e+00  2.81074545e+00  3.02837893e+00\n",
      "  3.24601241e+00  3.46364589e+00  3.68127937e+00  3.89891284e+00\n",
      "  4.11654632e+00  4.33417980e+00  4.55181328e+00  4.76944675e+00\n",
      "  4.98708023e+00  5.20471371e+00  5.42234719e+00  5.63998066e+00\n",
      "  5.85761414e+00  6.07524762e+00  6.29288110e+00  6.51051457e+00\n",
      "  6.72814805e+00  6.94578153e+00  7.16341501e+00  7.38104848e+00\n",
      "  7.59868196e+00  7.81631544e+00  8.03394892e+00  8.25158240e+00\n",
      "  8.46921587e+00  8.68684935e+00  8.90448283e+00  9.12211631e+00\n",
      "  9.33974978e+00  9.55738326e+00  9.77501674e+00  9.99265022e+00\n",
      "  1.02102837e+01  1.04279172e+01  1.06455506e+01  1.08631841e+01\n",
      "  1.10808176e+01  1.12984511e+01  1.15160846e+01  1.17337180e+01\n",
      "  1.19513515e+01  1.21689850e+01  1.23866185e+01  1.26042519e+01\n",
      "  1.28218854e+01  1.30395189e+01  1.32571524e+01  1.34747859e+01\n",
      "  1.36924193e+01  1.39100528e+01  1.41276863e+01  1.43453198e+01\n",
      "  1.45629532e+01  1.47805867e+01  1.49982202e+01  1.52158537e+01\n",
      "  1.54334872e+01  1.56511206e+01  1.58687541e+01  1.60863876e+01\n",
      "  1.63040211e+01  1.65216545e+01  1.67392880e+01  1.69569215e+01\n",
      "  1.71745550e+01  1.73921885e+01  1.76098219e+01  1.78274554e+01\n",
      "  1.80450889e+01  1.82627224e+01  1.84803558e+01  1.86979893e+01\n",
      "  1.89156228e+01  1.91332563e+01  1.93508898e+01  1.95685232e+01\n",
      "  1.97861567e+01  2.00037902e+01  2.02214237e+01  2.04390571e+01]\n"
     ]
    },
    {
     "data": {
      "image/png": "[encoded data removed]",
      "text/plain": [
       "<Figure size 432x288 with 1 Axes>"
      ]
     },
     "metadata": {
      "needs_background": "light"
     },
     "output_type": "display_data"
    }
   ],
   "source": [
    "import matplotlib.pyplot as plt\n",
    "from scipy.stats import gamma\n",
    "from Lagrange import LagrangePoly\n",
    "import numpy as np\n",
    "\n",
    "X  = [-0.7,0.7]\n",
    "Y  = [6.6498,12.6826]\n",
    "\n",
    "lp = LagrangePoly(X, Y)\n",
    "\n",
    "y = lp.interpolate(np.linspace(-2.5, 2.5, 100))\n",
    "\n",
    "print(y)\n",
    "\n",
    "\n",
    "plt.scatter(Y,gamma.cdf(Y,5,scale=2) ,  c='k')\n",
    "plt.plot(y, gamma.cdf(y,5,scale=2), linestyle='-')\n",
    "plt.show()\n"
   ]
  },
  {
   "cell_type": "code",
   "execution_count": 6,
   "metadata": {
    "pycharm": {
     "is_executing": false
    }
   },
   "outputs": [
    {
     "data": {
      "text/plain": [
       "69.67346701649471"
      ]
     },
     "execution_count": 6,
     "metadata": {},
     "output_type": "execute_result"
    }
   ],
   "source": [
    "from BSCallAnalytical import BSCallAnalytical\n",
    "callOption = BSCallAnalytical(100, 50, 1, 0.5, 0.2)\n",
    "callOption.price()"
   ]
  },
  {
   "cell_type": "code",
   "execution_count": 23,
   "metadata": {
    "pycharm": {
     "is_executing": false
    }
   },
   "outputs": [
    {
     "name": "stdout",
     "text": [
      "[-54.27880055   5.7749528   60.         114.2250472  174.27880055]\n\n"
     ],
     "output_type": "stream"
    },
    {
     "data": {
      "text/plain": "[<matplotlib.lines.Line2D at 0x1adbe7a16d0>]"
     },
     "metadata": {},
     "output_type": "execute_result",
     "execution_count": 23
    },
    {
     "data": {
      "text/plain": "<Figure size 432x288 with 1 Axes>",
      "image/png": "[encoded data removed]"
     },
     "metadata": {
      "needs_background": "light"
     },
     "output_type": "display_data"
    }
   ],
   "source": [
    "import matplotlib.pyplot as plt\n",
    "from Lagrange import LagrangePoly\n",
    "import numpy as np\n",
    "from scipy.stats import norm\n",
    "x = np.polynomial.hermite_e.hermegauss(5)[0]\n",
    "y= norm.ppf(norm.cdf(x),loc=60,scale=40)\n",
    "print (y)\n",
    "#y=lognorm.ppf([0.0021,0.0876,0.5,0.9124,0.9974], s=1, loc=0, scale=np.exp(0))\n",
    "#print(ncx2.ppf(0.0021,1.2,0.1))\n",
    "#y=lognorm.ppf([0.0021,0.0876,0.5,0.9124,0.9974], s=1, loc=0, scale=np.exp(0))\n",
    "print()\n",
    "plt.plot(x,y,'o')\n",
    "lp = LagrangePoly(x, y)\n",
    "\n",
    "samplesx = np.linspace(-2.5, 2.5, 10000)\n",
    "sampley = lp.interpolate(samplesx)\n",
    "# plt.plot(samplesx,np.exp(sampley),'o')\n",
    "plt.plot(samplesx,sampley,'-')"
   ]
  },
  {
   "cell_type": "code",
   "execution_count": null,
   "outputs": [],
   "source": [
    "\n"
   ],
   "metadata": {
    "collapsed": false,
    "pycharm": {
     "name": "#%%\n"
    }
   }
  }
 ],
 "metadata": {
  "kernelspec": {
   "display_name": "Python 3",
   "language": "python",
   "name": "python3"
  },
  "language_info": {
   "codemirror_mode": {
    "name": "ipython",
    "version": 3
   },
   "file_extension": ".py",
   "mimetype": "text/x-python",
   "name": "python",
   "nbconvert_exporter": "python",
   "pygments_lexer": "ipython3",
   "version": "3.8.5"
  },
  "pycharm": {
   "stem_cell": {
    "cell_type": "raw",
    "source": [],
    "metadata": {
     "collapsed": false
    }
   }
  }
 },
 "nbformat": 4,
 "nbformat_minor": 1
}