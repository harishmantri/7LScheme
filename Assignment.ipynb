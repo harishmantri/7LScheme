{
 "cells": [
  {
   "cell_type": "markdown",
   "metadata": {},
   "source": [
    "# The Seven League Scheme: Deep learning for large time step Monte Carlo simulations of stochastic differential equations"
   ]
  },
  {
   "cell_type": "markdown",
   "metadata": {},
   "source": [
    "## <b>Problem</b>\n",
    "7L Scheme\n",
    "The 7L scheme solved the SDE using large time steps. In other numerical scheme such as Euler/Milstien a large amount of discretization is required to achieve high order convergence. Due the large discretization it leads to discrezation bias. However the 7L scheme uses large time step there the discreziation bias is reduced.\n",
    "\n",
    "The scheme uses Artifical Neural networks (ANN) to learn SC points, then MC is performed by using large time steps.\n",
    "\n",
    "\n",
    "\n",
    "My Solution\n",
    "\n",
    "\n"
   ]
  },
  {
   "cell_type": "code",
   "execution_count": 25,
   "metadata": {
    "pycharm": {
     "is_executing": false
    }
   },
   "outputs": [],
   "source": [
    "import matplotlib.pyplot as plt\n",
    "from Lagrange import LagrangePoly\n",
    "import numpy as np\n",
    "from scipy.stats import norm\n",
    "from BSCallAnalytical import BSCallAnalytical"
   ]
  },
  {
   "cell_type": "markdown",
   "metadata": {},
   "source": [
    "Analytical pricing of European Call Option, to be used as benchmark"
   ]
  },
  {
   "cell_type": "code",
   "execution_count": 26,
   "metadata": {},
   "outputs": [
    {
     "data": {
      "text/plain": [
       "69.67346701649471"
      ]
     },
     "execution_count": 26,
     "metadata": {},
     "output_type": "execute_result"
    }
   ],
   "source": [
    "callOption = BSCallAnalytical(100, 50, 1, 0.5, 0.2)\n",
    "callOption.price()"
   ]
  },
  {
   "cell_type": "markdown",
   "metadata": {},
   "source": [
    "Price the European Call Option using SCMC - collocation method\n",
    "\n",
    "Formulae to generate collocation points\n",
    "\n",
    " $\\hat {y}(\\tau_{i}) = F^{-1}_{Y(\\tau_{i})}(F_{X}(x_{j}))$\n",
    " \n",
    " Attempt below to generate once MC path using the collocation technique, after getting the below correct will expand to multiple path and conditional collocation points\n"
   ]
  },
  {
   "cell_type": "code",
   "execution_count": 45,
   "metadata": {
    "pycharm": {
     "name": "#%%\n"
    }
   },
   "outputs": [
    {
     "data": {
      "image/png": "[encoded data removed]",
      "text/plain": [
       "<Figure size 432x288 with 1 Axes>"
      ]
     },
     "metadata": {
      "needs_background": "light"
     },
     "output_type": "display_data"
    }
   ],
   "source": [
    "S0=100\n",
    "K=50\n",
    "mean=0.5\n",
    "variance=0.2\n",
    "sampleSize=1000\n",
    "\n",
    "#generate normal(0,1) quadrature point\n",
    "x = np.polynomial.hermite_e.hermegauss(5)[0]\n",
    "\n",
    "#convert to disribution normal disribution with mean and variance defined , unsure?\n",
    "y= norm.ppf(norm.cdf(x),loc=mean,scale=variance)\n",
    "\n",
    "#determine the interpolation function\n",
    "lp = LagrangePoly(x, y)\n",
    "\n",
    "# Generate random sample using normal distributed values, unsure about below?\n",
    "samplex = np.linspace(-2.5, 2.5, sampleSize)\n",
    "# interpolate the 1000 values\n",
    "sampley = S0 + lp.interpolate(samplex)\n",
    "#generate random samples\n",
    "w = np.random.standard_normal(sampleSize)\n",
    "\n",
    "samplePath = S0 +  lp.interpolate(w)\n",
    "plt.plot(np.linspace(0,1,sampleSize), sampley,'-' )\n",
    "plt.show()\n"
   ]
  }
 ],
 "metadata": {
  "kernelspec": {
   "display_name": "Python 3",
   "language": "python",
   "name": "python3"
  },
  "language_info": {
   "codemirror_mode": {
    "name": "ipython",
    "version": 3
   },
   "file_extension": ".py",
   "mimetype": "text/x-python",
   "name": "python",
   "nbconvert_exporter": "python",
   "pygments_lexer": "ipython3",
   "version": "3.8.5"
  },
  "pycharm": {
   "stem_cell": {
    "cell_type": "raw",
    "metadata": {
     "collapsed": false
    },
    "source": []
   }
  }
 },
 "nbformat": 4,
 "nbformat_minor": 1
}
