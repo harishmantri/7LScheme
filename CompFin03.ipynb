{
 "cells": [
  {
   "cell_type": "markdown",
   "metadata": {},
   "source": [
    "# Monte Carlo simulation\n",
    "The goal is to calculate the expected value of a function $f(\\cdot)$ of a random variable $x$, where the distribution of $x$ is given by the probability density $\\psi(x)$, i.e.\n",
    "$$\n",
    "E[f(x)]=\\int_{-\\infty}^{\\infty}f(x)\\psi(x)dx\n",
    "$$"
   ]
  },
  {
   "cell_type": "markdown",
   "metadata": {},
   "source": [
    "## Outline of the Monte Carlo simulation\n",
    "1. Establish a procedure for drawing variates $x$ from the target distribution $\\psi(x)$.\n",
    "2. Initialise the variables:\n",
    "   RunningSum = 0 \n",
    "   RunningSumSquared = 0 \n",
    "   $i=1$\n",
    "3. Draw a realisation $x_i$ from the target distribution.\n",
    "4. Add $f(x_i)$ to RunningSum and  $(f(x_i))^2$ to RunningSumSquared.\n",
    "5. Increment the counter $i$. If $i$ is less than the maximum number of iterations, go to step 3.\n",
    "6. Calculate the simulated mean by dividing RunningSum by the total number of iterations.\n",
    "7. Calculate the variance of the simulations by dividing RunningSumSquared by the total number of iterations and subtracting the square of the mean."
   ]
  },
  {
   "cell_type": "markdown",
   "metadata": {},
   "source": [
    "## Error estimation for Monte Carlo methods\n",
    "By the Central Limit Theorem, we know that for a large number $N$ of simulations, the simulation mean $X_N$ is approximately normally distributed, with standard deviation\n",
    "$$\n",
    "\\sqrt{\\frac{\\sigma^2}N}\n",
    "$$\n",
    "where the simulation variance is an estimate for $\\sigma^2$.\n",
    "\n",
    "Thus, if there is no bias, the simulation mean is normally distributed around the target value with a standard deviation, which decreases with $\\sqrt{N}$.\n",
    "\n",
    "A 95% confidence interval for the target value is therefore approximately given by\n",
    "$$\n",
    "\\left[X_N-2\\sqrt{\\frac{\\sigma^2}N};X_N+2\\sqrt{\\frac{\\sigma^2}N}\\right]\n",
    "$$\n",
    "\n",
    "<font color='red'>**Monte Carlo simulation without error bounds is meaningless!**</font>"
   ]
  },
  {
   "cell_type": "markdown",
   "metadata": {},
   "source": [
    "The NumPy function `random.standard_normal()` returns a random variate drawn from the standard normal distribution, while `random.standard_normal(n)` returns `n` such variates in a Numpy array:"
   ]
  },
  {
   "cell_type": "code",
   "execution_count": null,
   "metadata": {},
   "outputs": [],
   "source": [
    "import numpy as np\n",
    "print(np.random.standard_normal())\n",
    "n = 5\n",
    "print(np.random.standard_normal(n))"
   ]
  },
  {
   "cell_type": "markdown",
   "metadata": {},
   "source": [
    "Recall that a standard normal random variable can be converted into a normal random variable of desired mean and standard deviation by multiplying by the standard deviation and adding the mean."
   ]
  },
  {
   "cell_type": "markdown",
   "metadata": {},
   "source": [
    "## Monte Carlo pricing of a Black/Scholes call option\n",
    "In the Black/Scholes model, the price of the underlying stock follows Geometric Brownian motion, with the dynamics under the risk-neutral measure given by\n",
    "$$S(T)=S(t)\\exp\\left\\{\\left(r−\\frac12\\sigma^2\\right)(T−t)+\\sigma(W(T)−W(t))\\right\\}$$\n",
    "Recall that the time 0 price of a European call option (and analogously the put option) expiring at time $T$ with strike price $K$ can be expressed as the expectation under the risk-neutral measure of \n",
    "$$C=E\\left[e^{−rT}\\max(0,S(T)−K)\\right]$$\n",
    "Thus we can write a Python function which calculates the Monte Carlo estimate `MC` for the Black/Scholes price of the option and the standard deviation `MCstd` of the simulation mean, where the function takes seven arguments (in this order): $S$, $K$, $\\sigma$, $r$, $T$, a 1 for a call or -1 for a put, and $n$, the number of sampling iterations of the Monte Carlo algorithm:"
   ]
  },
  {
   "cell_type": "code",
   "execution_count": null,
   "metadata": {},
   "outputs": [],
   "source": [
    "import numpy as np\n",
    "def BlackScholesMC(S,K,sgm,r,T,callput,n):\n",
    "    w = np.random.standard_normal(n)\n",
    "    ST=S*np.exp((r-0.5*sgm**2)*T+sgm*np.sqrt(T)*w)\n",
    "    payoff=callput*(ST-K) \n",
    "    payoff=payoff*(payoff>0)\n",
    "    MC=np.exp(-r*T)*np.mean(payoff)\n",
    "    MCstd=np.exp(-r*T)*np.std(payoff)/np.sqrt(n)\n",
    "    return MC, MCstd"
   ]
  },
  {
   "cell_type": "markdown",
   "metadata": {},
   "source": [
    "To run this code with user inputs:"
   ]
  },
  {
   "cell_type": "code",
   "execution_count": null,
   "metadata": {},
   "outputs": [],
   "source": [
    "stock = float(input('Enter the underlying stock price: '))\n",
    "strike = float(input('Enter the strike price: '))\n",
    "sigma = float(input('Enter the volatility: '))\n",
    "interest = float(input('Enter continuously compounded interest rate: '))\n",
    "maturity = float(input('Enter the time to maturity: '))\n",
    "callput = int(input('Enter 1 for call or -1 for put option: '))\n",
    "n = int(input('Enter the number of simulations: '))\n",
    "MC, MCstd = BlackScholesMC(stock,strike,sigma,interest,maturity,callput,n)\n",
    "print('The MC estimate for the option price is: ')\n",
    "print(MC)\n",
    "print('The 2 standard deviation confidence interval for the option price is: ')\n",
    "print(MC-2*MCstd,MC+2*MCstd)"
   ]
  },
  {
   "cell_type": "code",
   "execution_count": null,
   "metadata": {},
   "outputs": [],
   "source": []
  },
  {
   "cell_type": "code",
   "execution_count": null,
   "metadata": {},
   "outputs": [],
   "source": []
  }
 ],
 "metadata": {
  "kernelspec": {
   "display_name": "Python 3",
   "language": "python",
   "name": "python3"
  },
  "language_info": {
   "codemirror_mode": {
    "name": "ipython",
    "version": 3
   },
   "file_extension": ".py",
   "mimetype": "text/x-python",
   "name": "python",
   "nbconvert_exporter": "python",
   "pygments_lexer": "ipython3",
   "version": "3.8.5"
  }
 },
 "nbformat": 4,
 "nbformat_minor": 4
}
